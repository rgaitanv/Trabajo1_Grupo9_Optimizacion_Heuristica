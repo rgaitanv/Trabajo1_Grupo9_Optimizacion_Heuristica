{
 "cells": [
  {
   "attachments": {},
   "cell_type": "markdown",
   "metadata": {},
   "source": [
    "## Rastringin 2D Evolucion diferencial"
   ]
  },
  {
   "cell_type": "code",
   "execution_count": null,
   "metadata": {},
   "outputs": [],
   "source": [
    "## Rastrigin 2D - Evolucion Diferencial\n",
    "\n",
    "import numpy as np\n",
    "import matplotlib.pyplot as plt\n",
    "from scipy.optimize import differential_evolution\n",
    "\n",
    "# Definimos la función de Rastrigin\n",
    "def rastrigin(x):\n",
    "    return 20 + x[0]**2 - 10*np.cos(2*np.pi*x[0]) + x[1]**2 - 10*np.cos(2*np.pi*x[1])\n",
    "\n",
    "# Definimos los límites de los parámetros\n",
    "bounds = [(-5.12, 5.12), (-5.12, 5.12)]\n",
    "\n",
    "# Optimizamos la función de Rastrigin utilizando el método de evolución diferencial\n",
    "result = differential_evolution(rastrigin, bounds, strategy='best1bin', maxiter=1000, popsize=20, tol=0.01)\n",
    "\n",
    "# Imprimimos los resultados\n",
    "print(\"Punto óptimo: \", result.x)\n",
    "print(\"Valor óptimo: \", result.fun)\n",
    "\n",
    "# Graficamos la función de Rastrigin y el punto óptimo\n",
    "fig, ax = plt.subplots()\n",
    "x = np.linspace(-5.12, 5.12, 100)\n",
    "y = np.linspace(-5.12, 5.12, 100)\n",
    "X, Y = np.meshgrid(x, y)\n",
    "Z = rastrigin([X, Y])\n",
    "ax.contourf(X, Y, Z, levels=100)\n",
    "ax.plot(result.x[0], result.x[1], 'ro')\n",
    "plt.show()"
   ]
  },
  {
   "attachments": {},
   "cell_type": "markdown",
   "metadata": {},
   "source": [
    "## Rastringin 3D Evolucion diferencial"
   ]
  },
  {
   "cell_type": "code",
   "execution_count": null,
   "metadata": {},
   "outputs": [],
   "source": [
    "##Rastrigin 3D - Evolucion diferencial\n",
    "import numpy as np\n",
    "from scipy.optimize import differential_evolution\n",
    "\n",
    "def rastrigin(x):\n",
    "    A = 10\n",
    "    return A * 3 + (x[0]**2 - A * np.cos(2*np.pi*x[0])) + (x[1]**2 - A * np.cos(2*np.pi*x[1])) + (x[2]**2 - A * np.cos(2*np.pi*x[2]))\n",
    "\n",
    "bounds = [(-5.12, 5.12) for _ in range(3)]\n",
    "result = differential_evolution(rastrigin, bounds)\n",
    "\n",
    "print(\"Best solution:\", result.x)\n",
    "print(\"Best fitness:\", result.fun)"
   ]
  }
 ],
 "metadata": {
  "language_info": {
   "name": "python"
  },
  "orig_nbformat": 4
 },
 "nbformat": 4,
 "nbformat_minor": 2
}
