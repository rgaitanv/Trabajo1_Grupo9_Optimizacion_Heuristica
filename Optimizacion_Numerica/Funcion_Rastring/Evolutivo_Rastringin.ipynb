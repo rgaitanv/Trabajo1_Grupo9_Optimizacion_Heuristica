{
 "cells": [
  {
   "attachments": {},
   "cell_type": "markdown",
   "metadata": {},
   "source": [
    "## Rastringin 2D Algoritmo Evolutivo"
   ]
  },
  {
   "cell_type": "code",
   "execution_count": 1,
   "metadata": {},
   "outputs": [
    {
     "name": "stdout",
     "output_type": "stream",
     "text": [
      "La mejor solución encontrada es: [ 0.05214126 -0.06074095]\n",
      "La aptitud de la mejor solución encontrada es: 0.7950696846817561\n"
     ]
    },
    {
     "name": "stderr",
     "output_type": "stream",
     "text": [
      "c:\\Users\\DELL\\AppData\\Local\\Programs\\Python\\Python310\\lib\\site-packages\\pygad\\pygad.py:522: UserWarning: The percentage of genes to mutate (mutation_percent_genes=10) resutled in selecting (0) genes. The number of genes to mutate is set to 1 (mutation_num_genes=1).\n",
      "If you do not want to mutate any gene, please set mutation_type=None.\n",
      "  if not self.suppress_warnings: warnings.warn(\"The percentage of genes to mutate (mutation_percent_genes={mutation_percent}) resutled in selecting ({mutation_num}) genes. The number of genes to mutate is set to 1 (mutation_num_genes=1).\\nIf you do not want to mutate any gene, please set mutation_type=None.\".format(mutation_percent=mutation_percent_genes, mutation_num=mutation_num_genes))\n",
      "c:\\Users\\DELL\\AppData\\Local\\Programs\\Python\\Python310\\lib\\site-packages\\pygad\\pygad.py:940: UserWarning: Use the 'save_solutions' parameter with caution as it may cause memory overflow when either the number of generations, number of genes, or number of solutions in population is large.\n",
      "  if not self.suppress_warnings: warnings.warn(\"Use the 'save_solutions' parameter with caution as it may cause memory overflow when either the number of generations, number of genes, or number of solutions in population is large.\")\n"
     ]
    }
   ],
   "source": [
    "import numpy as np\n",
    "import pygad\n",
    "\n",
    "def rastrigin(x):\n",
    "    A = 10\n",
    "    n = len(x)\n",
    "    return A * n + sum([(x[i]**2 - A * np.cos(2 * np.pi * x[i])) for i in range(n)])\n",
    "\n",
    "def fitness_func(solution, solution_idx):\n",
    "    fitness = 1.0 / (rastrigin(solution) + 1e-8)\n",
    "    return fitness\n",
    "\n",
    "# Definir los límites del espacio de búsqueda\n",
    "search_space = np.array([[-5.12, 5.12]] * 2)\n",
    "\n",
    "num_generations = 10\n",
    "num_parents_mating = 4\n",
    "\n",
    "sol_per_pop = 8\n",
    "num_genes = 2\n",
    "\n",
    "init_range_low = -2\n",
    "init_range_high = 5\n",
    "\n",
    "parent_selection_type = \"sss\"\n",
    "keep_parents = 1\n",
    "\n",
    "crossover_type = \"single_point\"\n",
    "\n",
    "mutation_type = \"random\"\n",
    "mutation_percent_genes = 10\n",
    "\n",
    "\n",
    "# Configuración del algoritmo genético\n",
    "ga_instance = pygad.GA(num_generations=num_generations,\n",
    "                       num_parents_mating=num_parents_mating,\n",
    "                       fitness_func=fitness_func,\n",
    "                       sol_per_pop=sol_per_pop,\n",
    "                       num_genes=num_genes,\n",
    "                       init_range_low=init_range_low,\n",
    "                       init_range_high=init_range_high,\n",
    "                       parent_selection_type=parent_selection_type,\n",
    "                       keep_parents=keep_parents,\n",
    "                       crossover_type=crossover_type,\n",
    "                       mutation_type=mutation_type,\n",
    "                       mutation_percent_genes=mutation_percent_genes,\n",
    "                       save_solutions=True)\n",
    "\n",
    "\n",
    "# Ejecutar el algoritmo genético\n",
    "ga_instance.run()\n",
    "\n",
    "# Obtener la mejor solución\n",
    "solution, solution_fitness, solution_idx = ga_instance.best_solution()\n",
    "print(\"La mejor solución encontrada es: {0}\".format(solution))\n",
    "print(\"La aptitud de la mejor solución encontrada es: {0}\".format(solution_fitness))\n"
   ]
  },
  {
   "attachments": {},
   "cell_type": "markdown",
   "metadata": {},
   "source": [
    "## Rastrigin 3D Algoritmo evolutivo"
   ]
  },
  {
   "cell_type": "code",
   "execution_count": 4,
   "metadata": {},
   "outputs": [
    {
     "name": "stdout",
     "output_type": "stream",
     "text": [
      "Mejor solución encontrada:  [-3406.66311433 -3073.54780406  3351.37851544]\n",
      "Fitness de la mejor solución:  32283839.601949047\n"
     ]
    },
    {
     "data": {
      "image/png": "[encoded data removed]",
      "text/plain": [
       "<Figure size 432x288 with 1 Axes>"
      ]
     },
     "metadata": {
      "needs_background": "light"
     },
     "output_type": "display_data"
    }
   ],
   "source": [
    "import numpy as np\n",
    "import pygad\n",
    "import matplotlib.pyplot as plt\n",
    "\n",
    "# Función Rastrigin en 3 dimensiones\n",
    "def rastrigin(solution, solution_idx):\n",
    "    A = 10\n",
    "    value = A * 3 + np.sum(solution**2 - A * np.cos(2 * np.pi * solution))\n",
    "    return value\n",
    "\n",
    "# Crea la población inicial\n",
    "num_generations = 100\n",
    "num_parents_mating = 50\n",
    "sol_per_pop = 100\n",
    "num_genes = 3\n",
    "\n",
    "init_range_low = -5.12\n",
    "init_range_high = 5.12\n",
    "\n",
    "parent_selection_type = \"sss\"\n",
    "keep_parents = -1\n",
    "\n",
    "ga_instance = pygad.GA(num_generations=num_generations,\n",
    "                       num_parents_mating=num_parents_mating,\n",
    "                       sol_per_pop=sol_per_pop,\n",
    "                       num_genes=num_genes,\n",
    "                       init_range_low=init_range_low,\n",
    "                       init_range_high=init_range_high,\n",
    "                       parent_selection_type=parent_selection_type,\n",
    "                       keep_parents=keep_parents,\n",
    "                       fitness_func=rastrigin)\n",
    "\n",
    "# Inicia la evolución\n",
    "fitness_progress = []\n",
    "for generation in range(ga_instance.num_generations):\n",
    "    ga_instance.run()\n",
    "    fitness_progress.append(ga_instance.best_solution()[1])\n",
    "\n",
    "    # Imprime el mejor fitness de la generación\n",
    "    #print(\"Generación: \", generation + 1, \" Mejor fitness: \", ga_instance.best_solution()[1])\n",
    "\n",
    "# Imprime la mejor solución encontrada\n",
    "solution, solution_fitness, solution_idx = ga_instance.best_solution()\n",
    "print(\"Mejor solución encontrada: \", solution)\n",
    "print(\"Fitness de la mejor solución: \", solution_fitness)\n",
    "\n",
    "# Grafica la evolución del fitness\n",
    "plt.plot(fitness_progress)\n",
    "plt.xlabel('Generación')\n",
    "plt.ylabel('Fitness')\n",
    "plt.title('Evolución del fitness en el algoritmo evolutivo')\n",
    "plt.show()\n"
   ]
  }
 ],
 "metadata": {
  "kernelspec": {
   "display_name": "Python 3",
   "language": "python",
   "name": "python3"
  },
  "language_info": {
   "codemirror_mode": {
    "name": "ipython",
    "version": 3
   },
   "file_extension": ".py",
   "mimetype": "text/x-python",
   "name": "python",
   "nbconvert_exporter": "python",
   "pygments_lexer": "ipython3",
   "version": "3.10.6"
  },
  "orig_nbformat": 4
 },
 "nbformat": 4,
 "nbformat_minor": 2
}
