{
 "cells": [
  {
   "attachments": {},
   "cell_type": "markdown",
   "metadata": {},
   "source": [
    "## Rastringin 2D Optimizacion de particulas"
   ]
  },
  {
   "cell_type": "code",
   "execution_count": null,
   "metadata": {},
   "outputs": [],
   "source": [
    "## Rastrigin 2D - optimización de partículas\n",
    "\n",
    "import numpy as np\n",
    "import matplotlib.pyplot as plt\n",
    "from pyswarm import pso\n",
    "\n",
    "# Definimos la función de Rastrigin\n",
    "def rastrigin(x):\n",
    "    return 20 + x[0]**2 - 10*np.cos(2*np.pi*x[0]) + x[1]**2 - 10*np.cos(2*np.pi*x[1])\n",
    "\n",
    "# Definimos los límites de los parámetros\n",
    "lb = np.array([-5.12, -5.12])\n",
    "ub = np.array([5.12, 5.12])\n",
    "\n",
    "# Optimizamos la función de Rastrigin utilizando el método de optimización de partículas\n",
    "xopt, fopt = pso(rastrigin, lb, ub)\n",
    "\n",
    "# Imprimimos los resultados\n",
    "print(\"Punto óptimo: \", xopt)\n",
    "print(\"Valor óptimo: \", fopt)\n",
    "\n",
    "# Graficamos la función de Rastrigin y el punto óptimo\n",
    "fig, ax = plt.subplots()\n",
    "x = np.linspace(-5.12, 5.12, 100)\n",
    "y = np.linspace(-5.12, 5.12, 100)\n",
    "X, Y = np.meshgrid(x, y)\n",
    "Z = rastrigin([X, Y])\n",
    "ax.contourf(X, Y, Z, levels=100)\n",
    "ax.plot(xopt[0], xopt[1], 'ro')\n",
    "plt.show()"
   ]
  },
  {
   "attachments": {},
   "cell_type": "markdown",
   "metadata": {},
   "source": [
    "## Rastringin 3D Optimizacion de particulas"
   ]
  },
  {
   "cell_type": "code",
   "execution_count": null,
   "metadata": {},
   "outputs": [],
   "source": [
    "import numpy as np\n",
    "import matplotlib.pyplot as plt\n",
    "from mpl_toolkits.mplot3d import Axes3D\n",
    "from pyswarm import pso\n",
    "\n",
    "def rastrigin(x):\n",
    "    \"\"\"Función Rastrigin 3D\"\"\"\n",
    "    A = 10\n",
    "    n = len(x)\n",
    "    return A*n + sum([(xi**2 - A*np.cos(2*np.pi*xi)) for xi in x])\n",
    "\n",
    "# Definimos los límites de búsqueda\n",
    "lb = [-5.12, -5.12, -5.12]\n",
    "ub = [5.12, 5.12, 5.12]\n",
    "\n",
    "# Ejecutamos la optimización de partículas usando PSO\n",
    "xopt, fopt = pso(rastrigin, lb, ub, swarmsize=100, maxiter=100)\n",
    "\n",
    "# Creamos una malla de puntos para la visualización de la función\n",
    "x = np.linspace(-5.12, 5.12, 50)\n",
    "y = np.linspace(-5.12, 5.12, 50)\n",
    "X, Y = np.meshgrid(x, y)\n",
    "Z = rastrigin([X, Y, np.zeros((50, 50))])\n",
    "\n",
    "# Creamos la figura y los ejes 3D\n",
    "fig = plt.figure()\n",
    "ax = fig.add_subplot(111, projection='3d')\n",
    "\n",
    "# Graficamos la función Rastrigin 3D\n",
    "ax.plot_surface(X, Y, Z, cmap='viridis', alpha=0.8)\n",
    "\n",
    "# Graficamos la solución óptima encontrada por PSO\n",
    "ax.scatter(xopt[0], xopt[1], fopt, color='red', marker='*', s=200)\n",
    "\n",
    "# Configuramos los ejes y el título\n",
    "ax.set_xlabel('x')\n",
    "ax.set_ylabel('y')\n",
    "ax.set_zlabel('f(x, y)')\n",
    "ax.set_title('Función Rastrigin 3D')\n",
    "\n",
    "# Mostramos la figura\n",
    "plt.show()"
   ]
  }
 ],
 "metadata": {
  "language_info": {
   "name": "python"
  },
  "orig_nbformat": 4
 },
 "nbformat": 4,
 "nbformat_minor": 2
}
