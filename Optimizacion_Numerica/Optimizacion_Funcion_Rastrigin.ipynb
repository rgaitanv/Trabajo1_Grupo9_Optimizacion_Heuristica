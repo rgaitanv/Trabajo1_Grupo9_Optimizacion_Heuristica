{
 "cells": [
  {
   "attachments": {},
   "cell_type": "markdown",
   "metadata": {},
   "source": [
    "# Funcion de Rastrigin"
   ]
  },
  {
   "attachments": {},
   "cell_type": "markdown",
   "metadata": {},
   "source": [
    "La función rastrigin es una función no convexa que regularmente es empleada como test de desempeño en diversos algoritmos de optimización (mono-objetivo). Dado la gran cantidad de mínimos locales (función multimodal), algunos algoritmos de optimización pueden estancarse en el proceso de búsqueda y no convergen al mínimo global.\n",
    "\n",
    "La función de Rastrigin se define como:\n",
    "\n",
    "$$F(x)=An + \\sum_{i=1}^{n}x_{i}^2 -Acos(2x_{i}\\pi), \\ con \\ A=10, \\ x_{i} \\in [-5.12,5.12]$$\n"
   ]
  },
  {
   "cell_type": "code",
   "execution_count": 1,
   "metadata": {},
   "outputs": [],
   "source": [
    "import numpy as np\n",
    "import matplotlib.pyplot as plt"
   ]
  },
  {
   "attachments": {},
   "cell_type": "markdown",
   "metadata": {},
   "source": [
    "## Descenso por gradiente "
   ]
  },
  {
   "attachments": {},
   "cell_type": "markdown",
   "metadata": {},
   "source": [
    "### 2D\n",
    "\n",
    "$$F(x,y) = 20 + x^2 - 10\\cos(2x\\pi)+ y^2 - 10\\cos(2y\\pi)$$"
   ]
  },
  {
   "cell_type": "code",
   "execution_count": 27,
   "metadata": {},
   "outputs": [
    {
     "data": {
      "image/png": "[encoded data removed]",
      "text/plain": [
       "<Figure size 432x288 with 1 Axes>"
      ]
     },
     "metadata": {
      "needs_background": "light"
     },
     "output_type": "display_data"
    }
   ],
   "source": [
    "# Función de Rastring en dos dimensiones\n",
    "def rastring_2D(x, y):\n",
    "    fx=20 + x**2 - 10*np.cos(2*x*np.pi) + y**2 - 10*np.cos(2*y*np.pi)\n",
    "    return fx\n",
    "\n",
    "# Graficar la función de Rastring en 3D\n",
    "fig = plt.figure()\n",
    "ax = fig.add_subplot(projection='3d', azim=60, elev=0)\n",
    "#creamos un vector  X de cordenadas desde -5.12 hasta 5.12 con saltos de 0.05\n",
    "X = np.arange(-5.12, 5.12, 0.05)\n",
    "#creamos un vector  Y de cordenadas desde -5.12 hasta 5.12 con saltos de 0.05\n",
    "Y = np.arange(-5.12, 5.12, 0.05)\n",
    "#lista de matrices de coordenadas a partir de vectores de coordenadas.\n",
    "X, Y = np.meshgrid(X, Y)\n",
    "Z = rastring_2D(X, Y)\n",
    "surf = ax.plot_surface(X, Y, Z, cmap='coolwarm')\n",
    "ax.set_xlabel('x')\n",
    "ax.set_ylabel('y')\n",
    "ax.set_zlabel('z')\n",
    "plt.show()"
   ]
  },
  {
   "cell_type": "code",
   "execution_count": 3,
   "metadata": {},
   "outputs": [],
   "source": [
    "# Gradiente de la función de Rastring\n",
    "def rastring_gradient_2D(x, y):\n",
    "    \"\"\"\n",
    "    The function rastring_gradient takes two inputs, x and y, and returns the gradient of the Rastring\n",
    "    function with respect to x and y\n",
    "    \n",
    "    :param x: The x-coordinate of the starting point\n",
    "    :param y: The initial value of the function\n",
    "    :return: The gradient of the function\n",
    "    \"\"\"\n",
    "    #derivada de la funcion Rastring respecto a X\n",
    "    dx = 2*x+10*np.sin(2*x*np.pi)*(2*np.pi)\n",
    "    #derivada de la funcion Rastring respecto a Y\n",
    "    dy = 2*y+10*np.sin(2*y*np.pi)*(2*np.pi)\n",
    "    return np.array([dx, dy])"
   ]
  },
  {
   "cell_type": "code",
   "execution_count": 4,
   "metadata": {},
   "outputs": [],
   "source": [
    "# Método de descenso por gradiente para optimizar la función de rastring en 2D\n",
    "def gradient_descent_rastring_2D(x0, y0, alpha, epsilon, max_iter):\n",
    "    \"\"\"\n",
    "    It takes in the initial guess, the learning rate, the tolerance, and the maximum number of\n",
    "    iterations, and returns the final guess and the number of iterations it took to converge\n",
    "    \n",
    "    :param x0: Initial x value\n",
    "    :param y0: initial y value\n",
    "    :param alpha: learning rate\n",
    "    :param epsilon: the tolerance for the norm of the gradient. If the norm of the gradient is less than\n",
    "    epsilon, we stop\n",
    "    :param max_iter: maximum number of iterations\n",
    "    :return: the point x and the number of iterations i.\n",
    "    \"\"\"\n",
    "    x = np.array([x0, y0])\n",
    "    i = 0\n",
    "    while i < max_iter:\n",
    "        grad = rastring_gradient_2D(x[0], x[1])\n",
    "        if np.linalg.norm(grad) < epsilon:\n",
    "            break\n",
    "        x -= alpha * grad\n",
    "        i += 1\n",
    "    return x, i"
   ]
  },
  {
   "cell_type": "code",
   "execution_count": 36,
   "metadata": {},
   "outputs": [
    {
     "name": "stdout",
     "output_type": "stream",
     "text": [
      "Mínimo global encontrado: (-3.9798, 0.0000)\n",
      "Número de iteraciones: 32\n"
     ]
    }
   ],
   "source": [
    "# Prueba de la función de optimización en 2D\n",
    "x0, y0 = np.random.uniform(-5.10, 5.10), np.random.uniform(-5.10, 5.10)\n",
    "alpha = 0.001\n",
    "epsilon = 0.00001\n",
    "max_iter = 10000\n",
    "x_min, num_iter = gradient_descent_rastring_2D(x0, y0, alpha, epsilon, max_iter)\n",
    "print(f\"Mínimo global encontrado: ({x_min[0]:.4f}, {x_min[1]:.4f})\")\n",
    "print(f\"Número de iteraciones: {num_iter}\")"
   ]
  },
  {
   "cell_type": "code",
   "execution_count": 37,
   "metadata": {},
   "outputs": [
    {
     "data": {
      "text/plain": [
       "15.919243792461625"
      ]
     },
     "execution_count": 37,
     "metadata": {},
     "output_type": "execute_result"
    }
   ],
   "source": [
    "rastring_2D(x_min[0],x_min[1])"
   ]
  },
  {
   "attachments": {},
   "cell_type": "markdown",
   "metadata": {},
   "source": [
    "### 3D\n",
    "\n",
    "$$F(x,y,z) = 30 + x^2 - 10\\cos(2x\\pi)+ y^2 - 10\\cos(2y\\pi)+ z^2 - 10\\cos(2z\\pi)$$"
   ]
  },
  {
   "cell_type": "code",
   "execution_count": 6,
   "metadata": {},
   "outputs": [],
   "source": [
    "# Función de Rastring en dos dimensiones\n",
    "def rastring_3D(x, y, z):\n",
    "    fx=30 + x**2 - 10*np.cos(2*x*np.pi) + y**2 - 10*np.cos(2*y*np.pi)+ z**2 - 10*np.cos(2*z*np.pi)\n",
    "    return fx"
   ]
  },
  {
   "cell_type": "code",
   "execution_count": 7,
   "metadata": {},
   "outputs": [],
   "source": [
    "# Gradiente de la función de Rastrigin\n",
    "def rastrigin_gradient_3D(x, y,z):\n",
    "    #derivada de la funcion Rastring respecto a X\n",
    "    dx = 2*x+10*np.sin(2*x*np.pi)*(2*np.pi)\n",
    "    #derivada de la funcion Rastring respecto a Y\n",
    "    dy = 2*y+10*np.sin(2*y*np.pi)*(2*np.pi)\n",
    "    #derivada de la funcion Rastring respecto a Z\n",
    "    dz = 2*z+10*np.sin(2*z*np.pi)*(2*np.pi)\n",
    "    return np.array([dx, dy, dz])\n",
    "\n",
    "# Método de descenso por gradiente para optimizar la función de Rastrigin en 2D\n",
    "def gradient_descent_rastrigin_3D(x0, y0,z0, alpha, epsilon, max_iter):\n",
    "    x = np.array([x0, y0,z0])\n",
    "    i = 0\n",
    "    while i < max_iter:\n",
    "        grad = rastrigin_gradient_3D(x[0], x[1],x[2])\n",
    "        if np.linalg.norm(grad) < epsilon:\n",
    "            break\n",
    "        x -= alpha * grad\n",
    "        i += 1\n",
    "    return x, i"
   ]
  },
  {
   "cell_type": "code",
   "execution_count": 13,
   "metadata": {},
   "outputs": [
    {
     "name": "stdout",
     "output_type": "stream",
     "text": [
      "Mínimo global encontrado: (1.9899, -0.9950, -2.9849)\n",
      "Número de iteraciones: 36\n"
     ]
    }
   ],
   "source": [
    "\n",
    "# Prueba de la función de optimización en 2D\n",
    "x0, y0,z0 = np.random.uniform(-5.12, 5.12), np.random.uniform(-5.12, 5.12),np.random.uniform(-5.12, 5.12)\n",
    "alpha = 0.001\n",
    "epsilon = 0.0001\n",
    "max_iter = 10000\n",
    "x_min, num_iter = gradient_descent_rastrigin_3D(x0, y0,z0, alpha, epsilon, max_iter)\n",
    "print(f\"Mínimo global encontrado: ({x_min[0]:.4f}, {x_min[1]:.4f}, {x_min[2]:.4f})\")\n",
    "print(f\"Número de iteraciones: {num_iter}\")"
   ]
  }
 ],
 "metadata": {
  "kernelspec": {
   "display_name": "Python 3",
   "language": "python",
   "name": "python3"
  },
  "language_info": {
   "codemirror_mode": {
    "name": "ipython",
    "version": 3
   },
   "file_extension": ".py",
   "mimetype": "text/x-python",
   "name": "python",
   "nbconvert_exporter": "python",
   "pygments_lexer": "ipython3",
   "version": "3.10.6"
  },
  "orig_nbformat": 4,
  "vscode": {
   "interpreter": {
    "hash": "fbc768028c3e6ead51d9a200ddcb2ec858ae62844dcd1994729a8279be9b48f2"
   }
  }
 },
 "nbformat": 4,
 "nbformat_minor": 2
}
